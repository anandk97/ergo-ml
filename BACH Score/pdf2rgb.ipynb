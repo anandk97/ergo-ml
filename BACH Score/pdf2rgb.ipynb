{
 "cells": [
  {
   "cell_type": "code",
   "execution_count": 5,
   "metadata": {},
   "outputs": [
    {
     "name": "stdout",
     "output_type": "stream",
     "text": [
      "PDF pages saved as images with specified dimensions.\n"
     ]
    }
   ],
   "source": [
    "from pdf2image import convert_from_path\n",
    "from PIL import Image\n",
    "# Path to the PDF file\n",
    "pdf_path = r\"C:\\Users\\anand\\Downloads\\Feature Image.pdf\"\n",
    "\n",
    "# Desired output dimensions\n",
    "output_width = 1200\n",
    "output_height = 675\n",
    "\n",
    "# Convert PDF to a list of PIL images\n",
    "images = convert_from_path(pdf_path)\n",
    "\n",
    "# Save each page with specific dimensions\n",
    "for i, img in enumerate(images):\n",
    "    # Resize image to desired dimensions\n",
    "    resized_img = img.resize((output_width, output_height))\n",
    "    # Save the resized image\n",
    "    resized_img.save(r'C:\\Users\\anand\\Downloads\\page_{i + 1}.png', 'PNG')  # Change format to 'JPEG' if needed\n",
    "\n",
    "print(\"PDF pages saved as images with specified dimensions.\")\n"
   ]
  }
 ],
 "metadata": {
  "kernelspec": {
   "display_name": "ergo_ml",
   "language": "python",
   "name": "python3"
  },
  "language_info": {
   "codemirror_mode": {
    "name": "ipython",
    "version": 3
   },
   "file_extension": ".py",
   "mimetype": "text/x-python",
   "name": "python",
   "nbconvert_exporter": "python",
   "pygments_lexer": "ipython3",
   "version": "3.11.4"
  }
 },
 "nbformat": 4,
 "nbformat_minor": 2
}
