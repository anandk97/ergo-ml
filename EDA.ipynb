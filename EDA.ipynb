{
 "cells": [
  {
   "cell_type": "markdown",
   "metadata": {},
   "source": [
    "Playground for Exploratory Data Analysis"
   ]
  },
  {
   "cell_type": "code",
   "execution_count": 1,
   "metadata": {},
   "outputs": [],
   "source": [
    "import numpy as np\n",
    "import matplotlib.pyplot as plt\n",
    "import pandas as pd"
   ]
  },
  {
   "cell_type": "code",
   "execution_count": 2,
   "metadata": {},
   "outputs": [
    {
     "data": {
      "text/plain": [
       "Text(0.5, 1.0, 'Test Loss History')"
      ]
     },
     "execution_count": 2,
     "metadata": {},
     "output_type": "execute_result"
    },
    {
     "data": {
      "image/png": "[encoded data removed]",
      "text/plain": [
       "<Figure size 640x480 with 1 Axes>"
      ]
     },
     "metadata": {},
     "output_type": "display_data"
    }
   ],
   "source": [
    "test_loss_history = np.load(r'C:\\Users\\anand\\Desktop\\HAL Pytorch Datasets\\test_loss_history.npy')\n",
    "plt.plot(test_loss_history)\n",
    "plt.xlabel('Epoch')\n",
    "plt.ylabel('Loss')\n",
    "plt.title('Test Loss History')"
   ]
  },
  {
   "cell_type": "code",
   "execution_count": null,
   "metadata": {},
   "outputs": [
    {
     "data": {
      "text/html": [
       "<div>\n",
       "<style scoped>\n",
       "    .dataframe tbody tr th:only-of-type {\n",
       "        vertical-align: middle;\n",
       "    }\n",
       "\n",
       "    .dataframe tbody tr th {\n",
       "        vertical-align: top;\n",
       "    }\n",
       "\n",
       "    .dataframe thead th {\n",
       "        text-align: right;\n",
       "    }\n",
       "</style>\n",
       "<table border=\"1\" class=\"dataframe\">\n",
       "  <thead>\n",
       "    <tr style=\"text-align: right;\">\n",
       "      <th></th>\n",
       "      <th>Time (s)</th>\n",
       "      <th>Left Palm Force (N)</th>\n",
       "      <th>Left Thumb Force (N)</th>\n",
       "      <th>Left Index Force (N)</th>\n",
       "      <th>Left Middle Force (N)</th>\n",
       "      <th>Left Ring Force (N)</th>\n",
       "      <th>Left Little Force (N)</th>\n",
       "      <th>Right Palm Force (N)</th>\n",
       "      <th>Right Thumb Force (N)</th>\n",
       "      <th>Right Index Force (N)</th>\n",
       "      <th>Right Middle Force (N)</th>\n",
       "      <th>Right Ring Force (N)</th>\n",
       "      <th>Right Little Force (N)</th>\n",
       "      <th>Left HAL</th>\n",
       "      <th>Right HAL</th>\n",
       "    </tr>\n",
       "  </thead>\n",
       "  <tbody>\n",
       "    <tr>\n",
       "      <th>0</th>\n",
       "      <td>0.000</td>\n",
       "      <td>7.07</td>\n",
       "      <td>10.01</td>\n",
       "      <td>44.482</td>\n",
       "      <td>42.67</td>\n",
       "      <td>8.61</td>\n",
       "      <td>0.84</td>\n",
       "      <td>99.86</td>\n",
       "      <td>0.68</td>\n",
       "      <td>2.60</td>\n",
       "      <td>10.45</td>\n",
       "      <td>13.92</td>\n",
       "      <td>4.15</td>\n",
       "      <td>0.0</td>\n",
       "      <td>0.0</td>\n",
       "    </tr>\n",
       "    <tr>\n",
       "      <th>1</th>\n",
       "      <td>0.017</td>\n",
       "      <td>7.22</td>\n",
       "      <td>10.21</td>\n",
       "      <td>44.482</td>\n",
       "      <td>42.60</td>\n",
       "      <td>8.58</td>\n",
       "      <td>0.85</td>\n",
       "      <td>99.43</td>\n",
       "      <td>0.66</td>\n",
       "      <td>2.62</td>\n",
       "      <td>10.46</td>\n",
       "      <td>13.90</td>\n",
       "      <td>4.16</td>\n",
       "      <td>0.0</td>\n",
       "      <td>0.0</td>\n",
       "    </tr>\n",
       "    <tr>\n",
       "      <th>2</th>\n",
       "      <td>0.033</td>\n",
       "      <td>7.38</td>\n",
       "      <td>10.41</td>\n",
       "      <td>44.482</td>\n",
       "      <td>42.52</td>\n",
       "      <td>8.56</td>\n",
       "      <td>0.86</td>\n",
       "      <td>99.01</td>\n",
       "      <td>0.65</td>\n",
       "      <td>2.63</td>\n",
       "      <td>10.47</td>\n",
       "      <td>13.88</td>\n",
       "      <td>4.17</td>\n",
       "      <td>0.0</td>\n",
       "      <td>0.0</td>\n",
       "    </tr>\n",
       "    <tr>\n",
       "      <th>3</th>\n",
       "      <td>0.050</td>\n",
       "      <td>7.66</td>\n",
       "      <td>10.80</td>\n",
       "      <td>44.482</td>\n",
       "      <td>42.53</td>\n",
       "      <td>8.26</td>\n",
       "      <td>0.87</td>\n",
       "      <td>98.34</td>\n",
       "      <td>0.62</td>\n",
       "      <td>2.63</td>\n",
       "      <td>10.51</td>\n",
       "      <td>13.87</td>\n",
       "      <td>4.19</td>\n",
       "      <td>0.0</td>\n",
       "      <td>0.0</td>\n",
       "    </tr>\n",
       "    <tr>\n",
       "      <th>4</th>\n",
       "      <td>0.067</td>\n",
       "      <td>7.97</td>\n",
       "      <td>11.12</td>\n",
       "      <td>44.482</td>\n",
       "      <td>42.53</td>\n",
       "      <td>8.12</td>\n",
       "      <td>0.87</td>\n",
       "      <td>97.91</td>\n",
       "      <td>0.60</td>\n",
       "      <td>2.63</td>\n",
       "      <td>10.51</td>\n",
       "      <td>13.86</td>\n",
       "      <td>4.20</td>\n",
       "      <td>0.0</td>\n",
       "      <td>0.0</td>\n",
       "    </tr>\n",
       "  </tbody>\n",
       "</table>\n",
       "</div>"
      ],
      "text/plain": [
       "   Time (s)  Left Palm Force (N)  Left Thumb Force (N)  Left Index Force (N)  \\\n",
       "0     0.000                 7.07                 10.01                44.482   \n",
       "1     0.017                 7.22                 10.21                44.482   \n",
       "2     0.033                 7.38                 10.41                44.482   \n",
       "3     0.050                 7.66                 10.80                44.482   \n",
       "4     0.067                 7.97                 11.12                44.482   \n",
       "\n",
       "   Left Middle Force (N)  Left Ring Force (N)  Left Little Force (N)  \\\n",
       "0                  42.67                 8.61                   0.84   \n",
       "1                  42.60                 8.58                   0.85   \n",
       "2                  42.52                 8.56                   0.86   \n",
       "3                  42.53                 8.26                   0.87   \n",
       "4                  42.53                 8.12                   0.87   \n",
       "\n",
       "   Right Palm Force (N)  Right Thumb Force (N)  Right Index Force (N)  \\\n",
       "0                 99.86                   0.68                   2.60   \n",
       "1                 99.43                   0.66                   2.62   \n",
       "2                 99.01                   0.65                   2.63   \n",
       "3                 98.34                   0.62                   2.63   \n",
       "4                 97.91                   0.60                   2.63   \n",
       "\n",
       "   Right Middle Force (N)  Right Ring Force (N)  Right Little Force (N)  \\\n",
       "0                   10.45                 13.92                    4.15   \n",
       "1                   10.46                 13.90                    4.16   \n",
       "2                   10.47                 13.88                    4.17   \n",
       "3                   10.51                 13.87                    4.19   \n",
       "4                   10.51                 13.86                    4.20   \n",
       "\n",
       "   Left HAL  Right HAL  \n",
       "0       0.0        0.0  \n",
       "1       0.0        0.0  \n",
       "2       0.0        0.0  \n",
       "3       0.0        0.0  \n",
       "4       0.0        0.0  "
      ]
     },
     "execution_count": 6,
     "metadata": {},
     "output_type": "execute_result"
    }
   ],
   "source": []
  }
 ],
 "metadata": {
  "kernelspec": {
   "display_name": "ergo_ml",
   "language": "python",
   "name": "python3"
  },
  "language_info": {
   "codemirror_mode": {
    "name": "ipython",
    "version": 3
   },
   "file_extension": ".py",
   "mimetype": "text/x-python",
   "name": "python",
   "nbconvert_exporter": "python",
   "pygments_lexer": "ipython3",
   "version": "3.11.4"
  }
 },
 "nbformat": 4,
 "nbformat_minor": 2
}
