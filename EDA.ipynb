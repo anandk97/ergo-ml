{
 "cells": [
  {
   "cell_type": "markdown",
   "metadata": {},
   "source": [
    "Playground for Exploratory Data Analysis"
   ]
  },
  {
   "cell_type": "code",
   "execution_count": 1,
   "metadata": {},
   "outputs": [],
   "source": [
    "import numpy as np\n",
    "import matplotlib.pyplot as plt\n",
    "import pandas as pd"
   ]
  },
  {
   "cell_type": "code",
   "execution_count": null,
   "metadata": {},
   "outputs": [],
   "source": [
    "\n",
    "# initial_angle = -25\n",
    "participant_id = 1\n",
    "tool_id = 1\n",
    "trial_id = 1\n",
    "data = pd.read_csv(r\"C:\\Users\\anand\\Desktop\\Hand-intensive Manufacturing Processes Dataset\\p\"+str(participant_id)+\" tool\"+str(tool_id)+\" trial\"+str(trial_id)+\"\\processed bodypose.csv\",header=None)\n",
    "gonio_data = pd.read_csv(r\"C:\\Users\\anand\\Desktop\\Hand-intensive Manufacturing Processes Dataset\\p\"+str(participant_id)+\" tool\"+str(tool_id)+\" trial\"+str(trial_id)+\"\\processed gonio.csv\",header=None)\n",
    "file_name = r'C:\\Users\\anand\\Desktop\\RULA Labelled Data\\p'+str(participant_id)+' tool'+str(tool_id)+' trial'+str(trial_id)+'w_lr_RULA.csv'\n"
   ]
  }
 ],
 "metadata": {
  "kernelspec": {
   "display_name": "ergo_ml",
   "language": "python",
   "name": "python3"
  },
  "language_info": {
   "codemirror_mode": {
    "name": "ipython",
    "version": 3
   },
   "file_extension": ".py",
   "mimetype": "text/x-python",
   "name": "python",
   "nbconvert_exporter": "python",
   "pygments_lexer": "ipython3",
   "version": "3.11.4"
  }
 },
 "nbformat": 4,
 "nbformat_minor": 2
}
