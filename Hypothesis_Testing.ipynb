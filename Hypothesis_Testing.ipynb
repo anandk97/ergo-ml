{
 "cells": [
  {
   "cell_type": "markdown",
   "metadata": {},
   "source": [
    "Hypothesis testing for if right hand exerts more torque than the left hand"
   ]
  },
  {
   "cell_type": "code",
   "execution_count": 1,
   "metadata": {},
   "outputs": [],
   "source": [
    "import pandas as pd\n",
    "import numpy as np\n",
    "import matplotlib.pyplot as plt\n",
    "import os.path"
   ]
  },
  {
   "cell_type": "markdown",
   "metadata": {},
   "source": [
    "### Importing right and left torques"
   ]
  },
  {
   "cell_type": "code",
   "execution_count": 2,
   "metadata": {},
   "outputs": [
    {
     "name": "stdout",
     "output_type": "stream",
     "text": [
      "Left hand torques: (1449226,)\n",
      "Right hand torques: (1449226,)\n"
     ]
    }
   ],
   "source": [
    "data_fps = 60 # The data was interpolated to 60 fps\n",
    "participant_id = 1\n",
    "tool_id = 1\n",
    "trial_id = 1\n",
    "\n",
    "participant_id_range = range(1,16)\n",
    "tool_id_range = range(1,3)\n",
    "trial_id_range = range(1,4)\n",
    "#%% Calculate HAL for all trials\n",
    "left_hand_torques = []\n",
    "right_hand_torques = []\n",
    "for participant_id in participant_id_range:\n",
    "    for tool_id in tool_id_range:\n",
    "        for trial_id in trial_id_range:\n",
    "            # Check if the file exists\n",
    "            if os.path.isfile(r\"C:\\Users\\anand\\Desktop\\Hand-intensive Manufacturing Processes Dataset\\Participant \"+str(participant_id)+\"\\p\"+str(participant_id)+\" tool\"+str(tool_id)+\" trial\"+str(trial_id)+\"\\processed torque_detail_l.npy\"):\n",
    "                # print(\"Participant \"+str(participant_id)+\"\\tTool \"+str(tool_id)+\"\\tTrial \"+str(trial_id))\n",
    "                left_hand_torques.append(np.load(r\"C:\\Users\\anand\\Desktop\\Hand-intensive Manufacturing Processes Dataset\\Participant \"+str(participant_id)+\"\\p\"+str(participant_id)+\" tool\"+str(tool_id)+\" trial\"+str(trial_id)+\"\\processed torque_detail_l.npy\"))\n",
    "                right_hand_torques.append(np.load(r\"C:\\Users\\anand\\Desktop\\Hand-intensive Manufacturing Processes Dataset\\Participant \"+str(participant_id)+\"\\p\"+str(participant_id)+\" tool\"+str(tool_id)+\" trial\"+str(trial_id)+\"\\processed torque_detail_r.npy\"))\n",
    "            elif os.path.isfile(r\"C:\\Users\\anand\\Desktop\\Hand-intensive Manufacturing Processes Dataset\\Participant \"+str(participant_id)+\"\\\\tool\"+str(tool_id)+\" trial\"+str(trial_id)+\"\\processed p\"+str(participant_id)+\" tool\"+str(tool_id)+\" trial\"+str(trial_id)+\" force_detail_l.npy\"):\n",
    "                # print(\"Participant \"+str(participant_id)+\"\\tTool \"+str(tool_id)+\"\\tTrial \"+str(trial_id))\n",
    "                left_hand_torques.append(np.load(r\"C:\\Users\\anand\\Desktop\\Hand-intensive Manufacturing Processes Dataset\\Participant \"+str(participant_id)+\"\\\\tool\"+str(tool_id)+\" trial\"+str(trial_id)+\"\\processed p\"+str(participant_id)+\" tool\"+str(tool_id)+\" trial\"+str(trial_id)+\" force_detail_l.npy\"))\n",
    "                right_hand_torques.append(np.load(r\"C:\\Users\\anand\\Desktop\\Hand-intensive Manufacturing Processes Dataset\\Participant \"+str(participant_id)+\"\\\\tool\"+str(tool_id)+\" trial\"+str(trial_id)+\"\\processed p\"+str(participant_id)+\" tool\"+str(tool_id)+\" trial\"+str(trial_id)+\" force_detail_r.npy\"))\n",
    "\n",
    "\n",
    "left_hand_torques = np.concatenate(left_hand_torques)\n",
    "right_hand_torques = np.concatenate(right_hand_torques)\n",
    "\n",
    "# Remove nonzero and NaN values\n",
    "# left_hand_torques = left_hand_torques[~np.isnan(left_hand_torques)]\n",
    "# right_hand_torques = right_hand_torques[~np.isnan(right_hand_torques)]\n",
    "# left_hand_torques = left_hand_torques[left_hand_torques>0]\n",
    "# right_hand_torques = right_hand_torques[right_hand_torques>0]\n",
    "\n",
    "# Sum over all columns\n",
    "left_hand_torques = np.sum(left_hand_torques, axis=1)\n",
    "right_hand_torques = np.sum(right_hand_torques, axis=1)\n",
    "# \n",
    "print(\"Left hand torques: \"+str(left_hand_torques.shape))\n",
    "print(\"Right hand torques: \"+str(right_hand_torques.shape))"
   ]
  },
  {
   "cell_type": "code",
   "execution_count": 3,
   "metadata": {},
   "outputs": [
    {
     "name": "stdout",
     "output_type": "stream",
     "text": [
      "Mann-Whitney U test: 1067506409493.0\n",
      "p-value: 7.767577207225108e-132\n"
     ]
    }
   ],
   "source": [
    "from scipy.stats import mannwhitneyu\n",
    "\n",
    "u1,p = mannwhitneyu(right_hand_torques, left_hand_torques, alternative='greater')\n",
    "\n",
    "print(\"Mann-Whitney U test: \"+str(u1))\n",
    "print(\"p-value: \"+str(p))"
   ]
  },
  {
   "cell_type": "code",
   "execution_count": 4,
   "metadata": {},
   "outputs": [
    {
     "data": {
      "text/plain": [
       "0.5082744246237818"
      ]
     },
     "execution_count": 4,
     "metadata": {},
     "output_type": "execute_result"
    }
   ],
   "source": [
    "(u1/(len(left_hand_torques)*len(right_hand_torques)))"
   ]
  },
  {
   "cell_type": "code",
   "execution_count": 5,
   "metadata": {},
   "outputs": [
    {
     "data": {
      "text/plain": [
       "<matplotlib.legend.Legend at 0x1974a3e8c90>"
      ]
     },
     "execution_count": 5,
     "metadata": {},
     "output_type": "execute_result"
    },
    {
     "data": {
      "image/png": "[encoded data removed]",
      "text/plain": [
       "<Figure size 640x480 with 1 Axes>"
      ]
     },
     "metadata": {},
     "output_type": "display_data"
    }
   ],
   "source": [
    "# Plot mean and standard deviation of the torques\n",
    "plt.figure()\n",
    "plt.scatter(np.mean(left_hand_torques), np.std(left_hand_torques), color='b', label='Left hand')\n",
    "plt.scatter(np.mean(right_hand_torques), np.std(right_hand_torques), color='r', label='Right hand')\n",
    "plt.xlabel('Mean torque')\n",
    "plt.ylabel('Standard deviation of torque')\n",
    "plt.legend()"
   ]
  },
  {
   "cell_type": "code",
   "execution_count": 6,
   "metadata": {},
   "outputs": [
    {
     "name": "stdout",
     "output_type": "stream",
     "text": [
      "Mann-Whitney U test: 179.5\n",
      "p-value: 0.0028780170247819023\n"
     ]
    }
   ],
   "source": [
    "layup_time_wo_shop_aide = [39,32,45,42,62,50,40,44,36,45,41,29,50,62,55]\n",
    "layup_time_w_shop_aide = [55,33,29,28,19,41,26,31,34,38,28,32,42,47,31]\n",
    "\n",
    "u2,p = mannwhitneyu(layup_time_wo_shop_aide, layup_time_w_shop_aide, alternative='greater')\n",
    "\n",
    "print(\"Mann-Whitney U test: \"+str(u2))\n",
    "print(\"p-value: \"+str(p))"
   ]
  }
 ],
 "metadata": {
  "kernelspec": {
   "display_name": "ergo_ml",
   "language": "python",
   "name": "python3"
  },
  "language_info": {
   "codemirror_mode": {
    "name": "ipython",
    "version": 3
   },
   "file_extension": ".py",
   "mimetype": "text/x-python",
   "name": "python",
   "nbconvert_exporter": "python",
   "pygments_lexer": "ipython3",
   "version": "3.11.4"
  }
 },
 "nbformat": 4,
 "nbformat_minor": 2
}
